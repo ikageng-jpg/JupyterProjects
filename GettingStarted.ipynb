{
 "cells": [
  {
   "cell_type": "code",
   "execution_count": 38,
   "id": "c7407139-311d-4a59-b0fc-035df013f5e7",
   "metadata": {},
   "outputs": [
    {
     "data": {
      "text/html": [
       "<div>\n",
       "<style scoped>\n",
       "    .dataframe tbody tr th:only-of-type {\n",
       "        vertical-align: middle;\n",
       "    }\n",
       "\n",
       "    .dataframe tbody tr th {\n",
       "        vertical-align: top;\n",
       "    }\n",
       "\n",
       "    .dataframe thead th {\n",
       "        text-align: right;\n",
       "    }\n",
       "</style>\n",
       "<table border=\"1\" class=\"dataframe\">\n",
       "  <thead>\n",
       "    <tr style=\"text-align: right;\">\n",
       "      <th></th>\n",
       "      <th>country</th>\n",
       "      <th>total_consumption</th>\n",
       "      <th>recorded_consumption</th>\n",
       "      <th>unrecorded_consumption</th>\n",
       "      <th>beer_percentage</th>\n",
       "      <th>wine_percentage</th>\n",
       "      <th>spirits_percentage</th>\n",
       "      <th>other_percentage</th>\n",
       "      <th>2020_projection</th>\n",
       "      <th>2025_projection</th>\n",
       "    </tr>\n",
       "  </thead>\n",
       "  <tbody>\n",
       "    <tr>\n",
       "      <th>0</th>\n",
       "      <td>Estonia</td>\n",
       "      <td>16.9</td>\n",
       "      <td>15.8</td>\n",
       "      <td>1.1</td>\n",
       "      <td>32.7</td>\n",
       "      <td>7.4</td>\n",
       "      <td>50.3</td>\n",
       "      <td>9.6</td>\n",
       "      <td>11.5</td>\n",
       "      <td>11.9</td>\n",
       "    </tr>\n",
       "    <tr>\n",
       "      <th>1</th>\n",
       "      <td>Lithuania</td>\n",
       "      <td>15.0</td>\n",
       "      <td>13.8</td>\n",
       "      <td>1.2</td>\n",
       "      <td>43.6</td>\n",
       "      <td>7.3</td>\n",
       "      <td>37.1</td>\n",
       "      <td>12.1</td>\n",
       "      <td>14.4</td>\n",
       "      <td>13.9</td>\n",
       "    </tr>\n",
       "    <tr>\n",
       "      <th>2</th>\n",
       "      <td>Czech Republic</td>\n",
       "      <td>14.3</td>\n",
       "      <td>12.4</td>\n",
       "      <td>1.4</td>\n",
       "      <td>53.3</td>\n",
       "      <td>21.3</td>\n",
       "      <td>25.4</td>\n",
       "      <td>0.0</td>\n",
       "      <td>11.2</td>\n",
       "      <td>11.4</td>\n",
       "    </tr>\n",
       "    <tr>\n",
       "      <th>3</th>\n",
       "      <td>Seychelles</td>\n",
       "      <td>13.8</td>\n",
       "      <td>12.4</td>\n",
       "      <td>1.4</td>\n",
       "      <td>68.9</td>\n",
       "      <td>22.4</td>\n",
       "      <td>6.3</td>\n",
       "      <td>2.5</td>\n",
       "      <td>10.4</td>\n",
       "      <td>10.6</td>\n",
       "    </tr>\n",
       "    <tr>\n",
       "      <th>4</th>\n",
       "      <td>Germany</td>\n",
       "      <td>13.4</td>\n",
       "      <td>11.3</td>\n",
       "      <td>1.4</td>\n",
       "      <td>52.6</td>\n",
       "      <td>28.4</td>\n",
       "      <td>18.9</td>\n",
       "      <td>0.0</td>\n",
       "      <td>12.8</td>\n",
       "      <td>12.6</td>\n",
       "    </tr>\n",
       "    <tr>\n",
       "      <th>...</th>\n",
       "      <td>...</td>\n",
       "      <td>...</td>\n",
       "      <td>...</td>\n",
       "      <td>...</td>\n",
       "      <td>...</td>\n",
       "      <td>...</td>\n",
       "      <td>...</td>\n",
       "      <td>...</td>\n",
       "      <td>...</td>\n",
       "      <td>...</td>\n",
       "    </tr>\n",
       "    <tr>\n",
       "      <th>184</th>\n",
       "      <td>Bangladesh</td>\n",
       "      <td>0.0</td>\n",
       "      <td>0.0</td>\n",
       "      <td>0.0</td>\n",
       "      <td>NaN</td>\n",
       "      <td>NaN</td>\n",
       "      <td>NaN</td>\n",
       "      <td>NaN</td>\n",
       "      <td>0.0</td>\n",
       "      <td>0.0</td>\n",
       "    </tr>\n",
       "    <tr>\n",
       "      <th>185</th>\n",
       "      <td>Kuwait</td>\n",
       "      <td>0.0</td>\n",
       "      <td>0.0</td>\n",
       "      <td>0.0</td>\n",
       "      <td>NaN</td>\n",
       "      <td>NaN</td>\n",
       "      <td>NaN</td>\n",
       "      <td>NaN</td>\n",
       "      <td>0.0</td>\n",
       "      <td>0.0</td>\n",
       "    </tr>\n",
       "    <tr>\n",
       "      <th>186</th>\n",
       "      <td>Libya</td>\n",
       "      <td>0.0</td>\n",
       "      <td>0.0</td>\n",
       "      <td>0.0</td>\n",
       "      <td>NaN</td>\n",
       "      <td>NaN</td>\n",
       "      <td>NaN</td>\n",
       "      <td>NaN</td>\n",
       "      <td>0.0</td>\n",
       "      <td>0.0</td>\n",
       "    </tr>\n",
       "    <tr>\n",
       "      <th>187</th>\n",
       "      <td>Mauritania</td>\n",
       "      <td>0.0</td>\n",
       "      <td>0.0</td>\n",
       "      <td>0.0</td>\n",
       "      <td>NaN</td>\n",
       "      <td>NaN</td>\n",
       "      <td>NaN</td>\n",
       "      <td>NaN</td>\n",
       "      <td>0.0</td>\n",
       "      <td>0.0</td>\n",
       "    </tr>\n",
       "    <tr>\n",
       "      <th>188</th>\n",
       "      <td>Somalia</td>\n",
       "      <td>0.0</td>\n",
       "      <td>0.0</td>\n",
       "      <td>0.0</td>\n",
       "      <td>NaN</td>\n",
       "      <td>NaN</td>\n",
       "      <td>NaN</td>\n",
       "      <td>NaN</td>\n",
       "      <td>0.0</td>\n",
       "      <td>0.0</td>\n",
       "    </tr>\n",
       "  </tbody>\n",
       "</table>\n",
       "<p>189 rows × 10 columns</p>\n",
       "</div>"
      ],
      "text/plain": [
       "            country  total_consumption  recorded_consumption  \\\n",
       "0           Estonia               16.9                  15.8   \n",
       "1         Lithuania               15.0                  13.8   \n",
       "2    Czech Republic               14.3                  12.4   \n",
       "3        Seychelles               13.8                  12.4   \n",
       "4           Germany               13.4                  11.3   \n",
       "..              ...                ...                   ...   \n",
       "184      Bangladesh                0.0                   0.0   \n",
       "185          Kuwait                0.0                   0.0   \n",
       "186           Libya                0.0                   0.0   \n",
       "187      Mauritania                0.0                   0.0   \n",
       "188         Somalia                0.0                   0.0   \n",
       "\n",
       "     unrecorded_consumption  beer_percentage  wine_percentage  \\\n",
       "0                       1.1             32.7              7.4   \n",
       "1                       1.2             43.6              7.3   \n",
       "2                       1.4             53.3             21.3   \n",
       "3                       1.4             68.9             22.4   \n",
       "4                       1.4             52.6             28.4   \n",
       "..                      ...              ...              ...   \n",
       "184                     0.0              NaN              NaN   \n",
       "185                     0.0              NaN              NaN   \n",
       "186                     0.0              NaN              NaN   \n",
       "187                     0.0              NaN              NaN   \n",
       "188                     0.0              NaN              NaN   \n",
       "\n",
       "     spirits_percentage  other_percentage  2020_projection  2025_projection  \n",
       "0                  50.3               9.6             11.5             11.9  \n",
       "1                  37.1              12.1             14.4             13.9  \n",
       "2                  25.4               0.0             11.2             11.4  \n",
       "3                   6.3               2.5             10.4             10.6  \n",
       "4                  18.9               0.0             12.8             12.6  \n",
       "..                  ...               ...              ...              ...  \n",
       "184                 NaN               NaN              0.0              0.0  \n",
       "185                 NaN               NaN              0.0              0.0  \n",
       "186                 NaN               NaN              0.0              0.0  \n",
       "187                 NaN               NaN              0.0              0.0  \n",
       "188                 NaN               NaN              0.0              0.0  \n",
       "\n",
       "[189 rows x 10 columns]"
      ]
     },
     "execution_count": 38,
     "metadata": {},
     "output_type": "execute_result"
    }
   ],
   "source": [
    "import pandas as pd\n",
    "df = pd.read_csv(\"alcohol-consumption.csv\")\n",
    "df"
   ]
  },
  {
   "cell_type": "code",
   "execution_count": 2,
   "id": "5d44313e-a931-4d9c-8038-24be1e0ffe54",
   "metadata": {},
   "outputs": [
    {
     "data": {
      "text/html": [
       "<div>\n",
       "<style scoped>\n",
       "    .dataframe tbody tr th:only-of-type {\n",
       "        vertical-align: middle;\n",
       "    }\n",
       "\n",
       "    .dataframe tbody tr th {\n",
       "        vertical-align: top;\n",
       "    }\n",
       "\n",
       "    .dataframe thead th {\n",
       "        text-align: right;\n",
       "    }\n",
       "</style>\n",
       "<table border=\"1\" class=\"dataframe\">\n",
       "  <thead>\n",
       "    <tr style=\"text-align: right;\">\n",
       "      <th></th>\n",
       "      <th>country</th>\n",
       "      <th>total_consumption</th>\n",
       "      <th>recorded_consumption</th>\n",
       "      <th>unrecorded_consumption</th>\n",
       "      <th>beer_percentage</th>\n",
       "      <th>wine_percentage</th>\n",
       "      <th>spirits_percentage</th>\n",
       "      <th>other_percentage</th>\n",
       "      <th>2020_projection</th>\n",
       "      <th>2025_projection</th>\n",
       "    </tr>\n",
       "  </thead>\n",
       "  <tbody>\n",
       "    <tr>\n",
       "      <th>0</th>\n",
       "      <td>Estonia</td>\n",
       "      <td>16.9</td>\n",
       "      <td>15.8</td>\n",
       "      <td>1.1</td>\n",
       "      <td>32.7</td>\n",
       "      <td>7.4</td>\n",
       "      <td>50.3</td>\n",
       "      <td>9.6</td>\n",
       "      <td>11.5</td>\n",
       "      <td>11.9</td>\n",
       "    </tr>\n",
       "    <tr>\n",
       "      <th>1</th>\n",
       "      <td>Lithuania</td>\n",
       "      <td>15.0</td>\n",
       "      <td>13.8</td>\n",
       "      <td>1.2</td>\n",
       "      <td>43.6</td>\n",
       "      <td>7.3</td>\n",
       "      <td>37.1</td>\n",
       "      <td>12.1</td>\n",
       "      <td>14.4</td>\n",
       "      <td>13.9</td>\n",
       "    </tr>\n",
       "    <tr>\n",
       "      <th>2</th>\n",
       "      <td>Czech Republic</td>\n",
       "      <td>14.3</td>\n",
       "      <td>12.4</td>\n",
       "      <td>1.4</td>\n",
       "      <td>53.3</td>\n",
       "      <td>21.3</td>\n",
       "      <td>25.4</td>\n",
       "      <td>0.0</td>\n",
       "      <td>11.2</td>\n",
       "      <td>11.4</td>\n",
       "    </tr>\n",
       "    <tr>\n",
       "      <th>3</th>\n",
       "      <td>Seychelles</td>\n",
       "      <td>13.8</td>\n",
       "      <td>12.4</td>\n",
       "      <td>1.4</td>\n",
       "      <td>68.9</td>\n",
       "      <td>22.4</td>\n",
       "      <td>6.3</td>\n",
       "      <td>2.5</td>\n",
       "      <td>10.4</td>\n",
       "      <td>10.6</td>\n",
       "    </tr>\n",
       "    <tr>\n",
       "      <th>4</th>\n",
       "      <td>Germany</td>\n",
       "      <td>13.4</td>\n",
       "      <td>11.3</td>\n",
       "      <td>1.4</td>\n",
       "      <td>52.6</td>\n",
       "      <td>28.4</td>\n",
       "      <td>18.9</td>\n",
       "      <td>0.0</td>\n",
       "      <td>12.8</td>\n",
       "      <td>12.6</td>\n",
       "    </tr>\n",
       "    <tr>\n",
       "      <th>5</th>\n",
       "      <td>Nigeria</td>\n",
       "      <td>13.4</td>\n",
       "      <td>9.6</td>\n",
       "      <td>3.8</td>\n",
       "      <td>7.9</td>\n",
       "      <td>0.4</td>\n",
       "      <td>0.6</td>\n",
       "      <td>91.1</td>\n",
       "      <td>13.0</td>\n",
       "      <td>12.5</td>\n",
       "    </tr>\n",
       "    <tr>\n",
       "      <th>6</th>\n",
       "      <td>Ireland</td>\n",
       "      <td>13.0</td>\n",
       "      <td>11.3</td>\n",
       "      <td>1.4</td>\n",
       "      <td>47.0</td>\n",
       "      <td>28.0</td>\n",
       "      <td>18.8</td>\n",
       "      <td>6.2</td>\n",
       "      <td>13.5</td>\n",
       "      <td>13.9</td>\n",
       "    </tr>\n",
       "    <tr>\n",
       "      <th>7</th>\n",
       "      <td>Moldova</td>\n",
       "      <td>13.0</td>\n",
       "      <td>11.5</td>\n",
       "      <td>1.4</td>\n",
       "      <td>35.4</td>\n",
       "      <td>44.6</td>\n",
       "      <td>20.0</td>\n",
       "      <td>0.0</td>\n",
       "      <td>12.6</td>\n",
       "      <td>12.4</td>\n",
       "    </tr>\n",
       "    <tr>\n",
       "      <th>8</th>\n",
       "      <td>Latvia</td>\n",
       "      <td>12.9</td>\n",
       "      <td>11.1</td>\n",
       "      <td>1.9</td>\n",
       "      <td>42.8</td>\n",
       "      <td>11.1</td>\n",
       "      <td>40.0</td>\n",
       "      <td>6.1</td>\n",
       "      <td>14.0</td>\n",
       "      <td>15.1</td>\n",
       "    </tr>\n",
       "    <tr>\n",
       "      <th>9</th>\n",
       "      <td>Bulgaria</td>\n",
       "      <td>12.7</td>\n",
       "      <td>11.4</td>\n",
       "      <td>1.3</td>\n",
       "      <td>38.8</td>\n",
       "      <td>17.2</td>\n",
       "      <td>42.9</td>\n",
       "      <td>1.2</td>\n",
       "      <td>13.0</td>\n",
       "      <td>13.4</td>\n",
       "    </tr>\n",
       "  </tbody>\n",
       "</table>\n",
       "</div>"
      ],
      "text/plain": [
       "          country  total_consumption  recorded_consumption  \\\n",
       "0         Estonia               16.9                  15.8   \n",
       "1       Lithuania               15.0                  13.8   \n",
       "2  Czech Republic               14.3                  12.4   \n",
       "3      Seychelles               13.8                  12.4   \n",
       "4         Germany               13.4                  11.3   \n",
       "5         Nigeria               13.4                   9.6   \n",
       "6         Ireland               13.0                  11.3   \n",
       "7         Moldova               13.0                  11.5   \n",
       "8          Latvia               12.9                  11.1   \n",
       "9        Bulgaria               12.7                  11.4   \n",
       "\n",
       "   unrecorded_consumption  beer_percentage  wine_percentage  \\\n",
       "0                     1.1             32.7              7.4   \n",
       "1                     1.2             43.6              7.3   \n",
       "2                     1.4             53.3             21.3   \n",
       "3                     1.4             68.9             22.4   \n",
       "4                     1.4             52.6             28.4   \n",
       "5                     3.8              7.9              0.4   \n",
       "6                     1.4             47.0             28.0   \n",
       "7                     1.4             35.4             44.6   \n",
       "8                     1.9             42.8             11.1   \n",
       "9                     1.3             38.8             17.2   \n",
       "\n",
       "   spirits_percentage  other_percentage  2020_projection  2025_projection  \n",
       "0                50.3               9.6             11.5             11.9  \n",
       "1                37.1              12.1             14.4             13.9  \n",
       "2                25.4               0.0             11.2             11.4  \n",
       "3                 6.3               2.5             10.4             10.6  \n",
       "4                18.9               0.0             12.8             12.6  \n",
       "5                 0.6              91.1             13.0             12.5  \n",
       "6                18.8               6.2             13.5             13.9  \n",
       "7                20.0               0.0             12.6             12.4  \n",
       "8                40.0               6.1             14.0             15.1  \n",
       "9                42.9               1.2             13.0             13.4  "
      ]
     },
     "execution_count": 2,
     "metadata": {},
     "output_type": "execute_result"
    }
   ],
   "source": [
    "df.head(10)"
   ]
  },
  {
   "cell_type": "code",
   "execution_count": 3,
   "id": "0fb89058-5fde-4c9b-8373-b5d5be1802f7",
   "metadata": {},
   "outputs": [
    {
     "data": {
      "text/html": [
       "<div>\n",
       "<style scoped>\n",
       "    .dataframe tbody tr th:only-of-type {\n",
       "        vertical-align: middle;\n",
       "    }\n",
       "\n",
       "    .dataframe tbody tr th {\n",
       "        vertical-align: top;\n",
       "    }\n",
       "\n",
       "    .dataframe thead th {\n",
       "        text-align: right;\n",
       "    }\n",
       "</style>\n",
       "<table border=\"1\" class=\"dataframe\">\n",
       "  <thead>\n",
       "    <tr style=\"text-align: right;\">\n",
       "      <th></th>\n",
       "      <th>country</th>\n",
       "      <th>total_consumption</th>\n",
       "      <th>recorded_consumption</th>\n",
       "      <th>unrecorded_consumption</th>\n",
       "      <th>beer_percentage</th>\n",
       "      <th>wine_percentage</th>\n",
       "      <th>spirits_percentage</th>\n",
       "      <th>other_percentage</th>\n",
       "      <th>2020_projection</th>\n",
       "      <th>2025_projection</th>\n",
       "    </tr>\n",
       "  </thead>\n",
       "  <tbody>\n",
       "    <tr>\n",
       "      <th>179</th>\n",
       "      <td>Pakistan</td>\n",
       "      <td>0.3</td>\n",
       "      <td>0.0</td>\n",
       "      <td>0.3</td>\n",
       "      <td>NaN</td>\n",
       "      <td>NaN</td>\n",
       "      <td>NaN</td>\n",
       "      <td>NaN</td>\n",
       "      <td>0.3</td>\n",
       "      <td>0.4</td>\n",
       "    </tr>\n",
       "    <tr>\n",
       "      <th>180</th>\n",
       "      <td>Syria</td>\n",
       "      <td>0.3</td>\n",
       "      <td>0.2</td>\n",
       "      <td>0.1</td>\n",
       "      <td>11.6</td>\n",
       "      <td>1.1</td>\n",
       "      <td>87.2</td>\n",
       "      <td>0.0</td>\n",
       "      <td>0.3</td>\n",
       "      <td>0.3</td>\n",
       "    </tr>\n",
       "    <tr>\n",
       "      <th>181</th>\n",
       "      <td>Afghanistan</td>\n",
       "      <td>0.2</td>\n",
       "      <td>0.0</td>\n",
       "      <td>0.2</td>\n",
       "      <td>NaN</td>\n",
       "      <td>NaN</td>\n",
       "      <td>NaN</td>\n",
       "      <td>NaN</td>\n",
       "      <td>0.2</td>\n",
       "      <td>0.2</td>\n",
       "    </tr>\n",
       "    <tr>\n",
       "      <th>182</th>\n",
       "      <td>Saudi Arabia</td>\n",
       "      <td>0.2</td>\n",
       "      <td>0.1</td>\n",
       "      <td>0.2</td>\n",
       "      <td>NaN</td>\n",
       "      <td>NaN</td>\n",
       "      <td>NaN</td>\n",
       "      <td>NaN</td>\n",
       "      <td>0.2</td>\n",
       "      <td>0.2</td>\n",
       "    </tr>\n",
       "    <tr>\n",
       "      <th>183</th>\n",
       "      <td>Yemen</td>\n",
       "      <td>0.1</td>\n",
       "      <td>0.0</td>\n",
       "      <td>0.0</td>\n",
       "      <td>89.5</td>\n",
       "      <td>0.0</td>\n",
       "      <td>10.5</td>\n",
       "      <td>0.0</td>\n",
       "      <td>0.1</td>\n",
       "      <td>0.1</td>\n",
       "    </tr>\n",
       "    <tr>\n",
       "      <th>184</th>\n",
       "      <td>Bangladesh</td>\n",
       "      <td>0.0</td>\n",
       "      <td>0.0</td>\n",
       "      <td>0.0</td>\n",
       "      <td>NaN</td>\n",
       "      <td>NaN</td>\n",
       "      <td>NaN</td>\n",
       "      <td>NaN</td>\n",
       "      <td>0.0</td>\n",
       "      <td>0.0</td>\n",
       "    </tr>\n",
       "    <tr>\n",
       "      <th>185</th>\n",
       "      <td>Kuwait</td>\n",
       "      <td>0.0</td>\n",
       "      <td>0.0</td>\n",
       "      <td>0.0</td>\n",
       "      <td>NaN</td>\n",
       "      <td>NaN</td>\n",
       "      <td>NaN</td>\n",
       "      <td>NaN</td>\n",
       "      <td>0.0</td>\n",
       "      <td>0.0</td>\n",
       "    </tr>\n",
       "    <tr>\n",
       "      <th>186</th>\n",
       "      <td>Libya</td>\n",
       "      <td>0.0</td>\n",
       "      <td>0.0</td>\n",
       "      <td>0.0</td>\n",
       "      <td>NaN</td>\n",
       "      <td>NaN</td>\n",
       "      <td>NaN</td>\n",
       "      <td>NaN</td>\n",
       "      <td>0.0</td>\n",
       "      <td>0.0</td>\n",
       "    </tr>\n",
       "    <tr>\n",
       "      <th>187</th>\n",
       "      <td>Mauritania</td>\n",
       "      <td>0.0</td>\n",
       "      <td>0.0</td>\n",
       "      <td>0.0</td>\n",
       "      <td>NaN</td>\n",
       "      <td>NaN</td>\n",
       "      <td>NaN</td>\n",
       "      <td>NaN</td>\n",
       "      <td>0.0</td>\n",
       "      <td>0.0</td>\n",
       "    </tr>\n",
       "    <tr>\n",
       "      <th>188</th>\n",
       "      <td>Somalia</td>\n",
       "      <td>0.0</td>\n",
       "      <td>0.0</td>\n",
       "      <td>0.0</td>\n",
       "      <td>NaN</td>\n",
       "      <td>NaN</td>\n",
       "      <td>NaN</td>\n",
       "      <td>NaN</td>\n",
       "      <td>0.0</td>\n",
       "      <td>0.0</td>\n",
       "    </tr>\n",
       "  </tbody>\n",
       "</table>\n",
       "</div>"
      ],
      "text/plain": [
       "          country  total_consumption  recorded_consumption  \\\n",
       "179      Pakistan                0.3                   0.0   \n",
       "180         Syria                0.3                   0.2   \n",
       "181   Afghanistan                0.2                   0.0   \n",
       "182  Saudi Arabia                0.2                   0.1   \n",
       "183         Yemen                0.1                   0.0   \n",
       "184    Bangladesh                0.0                   0.0   \n",
       "185        Kuwait                0.0                   0.0   \n",
       "186         Libya                0.0                   0.0   \n",
       "187    Mauritania                0.0                   0.0   \n",
       "188       Somalia                0.0                   0.0   \n",
       "\n",
       "     unrecorded_consumption  beer_percentage  wine_percentage  \\\n",
       "179                     0.3              NaN              NaN   \n",
       "180                     0.1             11.6              1.1   \n",
       "181                     0.2              NaN              NaN   \n",
       "182                     0.2              NaN              NaN   \n",
       "183                     0.0             89.5              0.0   \n",
       "184                     0.0              NaN              NaN   \n",
       "185                     0.0              NaN              NaN   \n",
       "186                     0.0              NaN              NaN   \n",
       "187                     0.0              NaN              NaN   \n",
       "188                     0.0              NaN              NaN   \n",
       "\n",
       "     spirits_percentage  other_percentage  2020_projection  2025_projection  \n",
       "179                 NaN               NaN              0.3              0.4  \n",
       "180                87.2               0.0              0.3              0.3  \n",
       "181                 NaN               NaN              0.2              0.2  \n",
       "182                 NaN               NaN              0.2              0.2  \n",
       "183                10.5               0.0              0.1              0.1  \n",
       "184                 NaN               NaN              0.0              0.0  \n",
       "185                 NaN               NaN              0.0              0.0  \n",
       "186                 NaN               NaN              0.0              0.0  \n",
       "187                 NaN               NaN              0.0              0.0  \n",
       "188                 NaN               NaN              0.0              0.0  "
      ]
     },
     "execution_count": 3,
     "metadata": {},
     "output_type": "execute_result"
    }
   ],
   "source": [
    "df.tail(10)"
   ]
  },
  {
   "cell_type": "code",
   "execution_count": 5,
   "id": "25126475-20c0-41c4-8ed4-54b011d06c88",
   "metadata": {},
   "outputs": [
    {
     "data": {
      "text/plain": [
       "country                    0\n",
       "total_consumption          0\n",
       "recorded_consumption       0\n",
       "unrecorded_consumption     0\n",
       "beer_percentage           10\n",
       "wine_percentage           10\n",
       "spirits_percentage        10\n",
       "other_percentage          10\n",
       "2020_projection            0\n",
       "2025_projection            0\n",
       "dtype: int64"
      ]
     },
     "execution_count": 5,
     "metadata": {},
     "output_type": "execute_result"
    }
   ],
   "source": [
    "df.isnull().sum()"
   ]
  },
  {
   "cell_type": "code",
   "execution_count": 7,
   "id": "f1f7a951-c397-4455-8557-8b32a55b5fe9",
   "metadata": {},
   "outputs": [
    {
     "data": {
      "text/plain": [
       "10"
      ]
     },
     "execution_count": 7,
     "metadata": {},
     "output_type": "execute_result"
    }
   ],
   "source": [
    "len(df.columns)"
   ]
  },
  {
   "cell_type": "code",
   "execution_count": 8,
   "id": "f182e070-fe58-4073-9246-5ecd1b997286",
   "metadata": {},
   "outputs": [
    {
     "data": {
      "text/plain": [
       "189"
      ]
     },
     "execution_count": 8,
     "metadata": {},
     "output_type": "execute_result"
    }
   ],
   "source": [
    "len(df)"
   ]
  },
  {
   "cell_type": "code",
   "execution_count": 9,
   "id": "0b7563dc-0252-49d4-a1df-f80f3f662b14",
   "metadata": {},
   "outputs": [
    {
     "name": "stdout",
     "output_type": "stream",
     "text": [
      "<class 'pandas.core.frame.DataFrame'>\n",
      "RangeIndex: 189 entries, 0 to 188\n",
      "Data columns (total 10 columns):\n",
      " #   Column                  Non-Null Count  Dtype  \n",
      "---  ------                  --------------  -----  \n",
      " 0   country                 189 non-null    object \n",
      " 1   total_consumption       189 non-null    float64\n",
      " 2   recorded_consumption    189 non-null    float64\n",
      " 3   unrecorded_consumption  189 non-null    float64\n",
      " 4   beer_percentage         179 non-null    float64\n",
      " 5   wine_percentage         179 non-null    float64\n",
      " 6   spirits_percentage      179 non-null    float64\n",
      " 7   other_percentage        179 non-null    float64\n",
      " 8   2020_projection         189 non-null    float64\n",
      " 9   2025_projection         189 non-null    float64\n",
      "dtypes: float64(9), object(1)\n",
      "memory usage: 14.9+ KB\n"
     ]
    }
   ],
   "source": [
    "df.info()"
   ]
  },
  {
   "cell_type": "code",
   "execution_count": 11,
   "id": "c35d40ff-6591-40c6-ba63-ed7f9437c523",
   "metadata": {},
   "outputs": [
    {
     "data": {
      "text/plain": [
       "Index(['country', 'total_consumption', 'recorded_consumption',\n",
       "       'unrecorded_consumption', 'beer_percentage', 'wine_percentage',\n",
       "       'spirits_percentage', 'other_percentage', '2020_projection',\n",
       "       '2025_projection'],\n",
       "      dtype='object')"
      ]
     },
     "execution_count": 11,
     "metadata": {},
     "output_type": "execute_result"
    }
   ],
   "source": [
    "df.columns()"
   ]
  },
  {
   "cell_type": "code",
   "execution_count": 13,
   "id": "3f57fdcb-aa96-4bcc-ae30-b20071f025e1",
   "metadata": {},
   "outputs": [
    {
     "data": {
      "text/plain": [
       "np.float64(16.9)"
      ]
     },
     "execution_count": 13,
     "metadata": {},
     "output_type": "execute_result"
    }
   ],
   "source": [
    "df[\"total_consumption\"].max()\n"
   ]
  },
  {
   "cell_type": "code",
   "execution_count": 14,
   "id": "bcd88417-181a-4a8d-ad27-f5224c18b8e0",
   "metadata": {},
   "outputs": [
    {
     "data": {
      "text/plain": [
       "np.float64(0.0)"
      ]
     },
     "execution_count": 14,
     "metadata": {},
     "output_type": "execute_result"
    }
   ],
   "source": [
    "df[\"total_consumption\"].min()"
   ]
  },
  {
   "cell_type": "code",
   "execution_count": 15,
   "id": "bff41f40-f893-4025-bde3-14a419fdfe87",
   "metadata": {},
   "outputs": [
    {
     "data": {
      "text/plain": [
       "np.float64(6.1835978835978835)"
      ]
     },
     "execution_count": 15,
     "metadata": {},
     "output_type": "execute_result"
    }
   ],
   "source": [
    "df[\"total_consumption\"].mean()"
   ]
  },
  {
   "cell_type": "code",
   "execution_count": 19,
   "id": "8bcb7d43-6949-4fee-88f9-88f3a35bd06b",
   "metadata": {},
   "outputs": [
    {
     "data": {
      "text/plain": [
       "country                   182\n",
       "total_consumption         182\n",
       "recorded_consumption      182\n",
       "unrecorded_consumption    182\n",
       "beer_percentage           177\n",
       "wine_percentage           177\n",
       "spirits_percentage        177\n",
       "other_percentage          177\n",
       "2020_projection           182\n",
       "2025_projection           182\n",
       "dtype: int64"
      ]
     },
     "execution_count": 19,
     "metadata": {},
     "output_type": "execute_result"
    }
   ],
   "source": [
    "df[df[\"unrecorded_consumption\"]>0].count()"
   ]
  },
  {
   "cell_type": "code",
   "execution_count": 23,
   "id": "ca3e43fa-3639-4fdf-a6de-f37329612e4f",
   "metadata": {},
   "outputs": [
    {
     "data": {
      "text/plain": [
       "64    Vietnam\n",
       "Name: country, dtype: object"
      ]
     },
     "execution_count": 23,
     "metadata": {},
     "output_type": "execute_result"
    }
   ],
   "source": [
    "df[\"unrecorded_consumption\"].max()\n",
    "df[df[\"unrecorded_consumption\"]==5.3][\"country\"]"
   ]
  },
  {
   "cell_type": "code",
   "execution_count": 24,
   "id": "b3de6322-a481-44f1-b195-934041085a51",
   "metadata": {},
   "outputs": [
    {
     "data": {
      "text/plain": [
       "np.float64(97.3)"
      ]
     },
     "execution_count": 24,
     "metadata": {},
     "output_type": "execute_result"
    }
   ],
   "source": [
    "df[\"spirits_percentage\"].max()"
   ]
  },
  {
   "cell_type": "code",
   "execution_count": 25,
   "id": "ddc56bc8-1565-4c9f-8a2f-617c07513fcb",
   "metadata": {},
   "outputs": [
    {
     "data": {
      "text/plain": [
       "99           Haiti\n",
       "121    North Korea\n",
       "Name: country, dtype: object"
      ]
     },
     "execution_count": 25,
     "metadata": {},
     "output_type": "execute_result"
    }
   ],
   "source": [
    "df[df[\"spirits_percentage\"]==97.3][\"country\"]"
   ]
  },
  {
   "cell_type": "code",
   "execution_count": 26,
   "id": "67edda13-dc2a-4eaf-b0cc-e7ad6337f2cf",
   "metadata": {},
   "outputs": [
    {
     "data": {
      "text/plain": [
       "np.float64(100.0)"
      ]
     },
     "execution_count": 26,
     "metadata": {},
     "output_type": "execute_result"
    }
   ],
   "source": [
    "df[\"beer_percentage\"].max()"
   ]
  },
  {
   "cell_type": "code",
   "execution_count": 27,
   "id": "84a072b2-c12d-49ad-ad8a-9061744ca9b9",
   "metadata": {},
   "outputs": [
    {
     "data": {
      "text/plain": [
       "175      Brunei\n",
       "178    Kiribati\n",
       "Name: country, dtype: object"
      ]
     },
     "execution_count": 27,
     "metadata": {},
     "output_type": "execute_result"
    }
   ],
   "source": [
    "df[df[\"beer_percentage\"]==100.0][\"country\"]"
   ]
  },
  {
   "cell_type": "code",
   "execution_count": 28,
   "id": "28a254c3-b9b6-4b8e-9b58-9582bbbe6cc8",
   "metadata": {},
   "outputs": [
    {
     "data": {
      "text/plain": [
       "np.float64(84.7)"
      ]
     },
     "execution_count": 28,
     "metadata": {},
     "output_type": "execute_result"
    }
   ],
   "source": [
    "df[\"wine_percentage\"].max()"
   ]
  },
  {
   "cell_type": "code",
   "execution_count": 29,
   "id": "ff95a54f-12db-47fa-a9e3-411c41299546",
   "metadata": {},
   "outputs": [
    {
     "data": {
      "text/plain": [
       "151    Tuvalu\n",
       "Name: country, dtype: object"
      ]
     },
     "execution_count": 29,
     "metadata": {},
     "output_type": "execute_result"
    }
   ],
   "source": [
    "df[df[\"wine_percentage\"]==84.7][\"country\"]"
   ]
  },
  {
   "cell_type": "code",
   "execution_count": 30,
   "id": "076ec1b8-fcb0-4382-8e0f-ae53ebc93f58",
   "metadata": {},
   "outputs": [
    {
     "data": {
      "text/plain": [
       "np.float64(94.9)"
      ]
     },
     "execution_count": 30,
     "metadata": {},
     "output_type": "execute_result"
    }
   ],
   "source": [
    "df[\"other_percentage\"].max()"
   ]
  },
  {
   "cell_type": "code",
   "execution_count": 31,
   "id": "e0aba075-57e5-4fe1-b1fc-361bb98923f1",
   "metadata": {},
   "outputs": [
    {
     "data": {
      "text/plain": [
       "103    Sierra Leone\n",
       "Name: country, dtype: object"
      ]
     },
     "execution_count": 31,
     "metadata": {},
     "output_type": "execute_result"
    }
   ],
   "source": [
    "df[df[\"other_percentage\"]==94.9][\"country\"]"
   ]
  },
  {
   "cell_type": "code",
   "execution_count": 35,
   "id": "0a1fa10d-eb76-4088-b122-8f8d5527008b",
   "metadata": {},
   "outputs": [],
   "source": [
    "def fun():\n",
    "    count=0\n",
    "    for num in df[\"total_consumption\"]:\n",
    "        if num>1:\n",
    "            count=count+1\n",
    "    print(count)\n",
    "    "
   ]
  },
  {
   "cell_type": "code",
   "execution_count": 36,
   "id": "22388045-5790-4006-9274-12eacf70b4fd",
   "metadata": {},
   "outputs": [
    {
     "name": "stdout",
     "output_type": "stream",
     "text": [
      "160\n"
     ]
    }
   ],
   "source": [
    "fun()"
   ]
  },
  {
   "cell_type": "code",
   "execution_count": null,
   "id": "76c2666a-624f-49d1-bf44-433bdfd91548",
   "metadata": {},
   "outputs": [],
   "source": []
  }
 ],
 "metadata": {
  "kernelspec": {
   "display_name": "Python 3 (ipykernel)",
   "language": "python",
   "name": "python3"
  },
  "language_info": {
   "codemirror_mode": {
    "name": "ipython",
    "version": 3
   },
   "file_extension": ".py",
   "mimetype": "text/x-python",
   "name": "python",
   "nbconvert_exporter": "python",
   "pygments_lexer": "ipython3",
   "version": "3.13.5"
  }
 },
 "nbformat": 4,
 "nbformat_minor": 5
}
